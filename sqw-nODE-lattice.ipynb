{
 "cells": [
  {
   "cell_type": "markdown",
   "metadata": {},
   "source": [
    "Questa è l'ultima versione del codice per la classificazione di MNIST con uno Stochastic Quantum Walker.\n",
    "L'unico pacchetto \"non-standard\" è torchdiffeq, la cui funzione odeint_adjoint risolve equazioni differenziali utilizzando O(1) di memoria per la backpropagation."
   ]
  },
  {
   "cell_type": "code",
   "execution_count": 1,
   "metadata": {},
   "outputs": [],
   "source": [
    "import torch\n",
    "from torch import nn\n",
    "from torch.utils.data import DataLoader, Dataset\n",
    "import matplotlib.pyplot as plt\n",
    "import math\n",
    "from torchdiffeq import odeint_adjoint as odeint"
   ]
  },
  {
   "cell_type": "code",
   "execution_count": 2,
   "metadata": {},
   "outputs": [
    {
     "name": "stdout",
     "output_type": "stream",
     "text": [
      "Using cuda device\n"
     ]
    }
   ],
   "source": [
    "device = (\n",
    "    \"cuda\"\n",
    "    if torch.cuda.is_available()\n",
    "    else \"cpu\"\n",
    ")\n",
    "print(f\"Using {device} device\")"
   ]
  },
  {
   "cell_type": "markdown",
   "metadata": {},
   "source": [
    "I dataset sono caricati nei dataloader. MNIST è già encodato a 64 feature e paddato con gli ultimi 10 pixel pari a 0. Da notare che le immagini sono già in formato torch.complex64. Inoltre, nel notebook dell'autoencoder, l'encoder ha come ultimo layer una ReLU e non una sigmoide! Questo significa che i pixel non hanno più valori compresi tra 0 e 1. La ragione di questa scelta è perché nel caso della sigmoide, e al contrario della ReLU, il training non riusciva (non so bene perché) a ottimizzare a sufficienza e la loss rimaneva alta."
   ]
  },
  {
   "cell_type": "code",
   "execution_count": 3,
   "metadata": {},
   "outputs": [
    {
     "name": "stdout",
     "output_type": "stream",
     "text": [
      "Dimensioni dataset: torch.Size([128, 74]), torch.Size([128])\n",
      "Data type: torch.complex64, torch.int64\n",
      "Padding: tensor([0.+0.j, 0.+0.j, 0.+0.j, 0.+0.j, 0.+0.j, 0.+0.j, 0.+0.j, 0.+0.j, 0.+0.j, 0.+0.j])\n"
     ]
    }
   ],
   "source": [
    "class StochasticMNIST(Dataset):\n",
    "    def __init__(self, data, targets):\n",
    "        self.data = data\n",
    "        self.targets = targets\n",
    "\n",
    "    def __len__(self):\n",
    "        return len(self.data)\n",
    "\n",
    "    def __getitem__(self, idx):\n",
    "        return self.data[idx], self.targets[idx]\n",
    "\n",
    "# Carico le immagini encodate\n",
    "train_data, train_targets = torch.load(\"qsw_train_data_encoded64.pt\", weights_only=False)\n",
    "test_data, test_targets = torch.load(\"qsw_test_data_encoded64.pt\", weights_only=False)\n",
    "\n",
    "# Creo i dataset\n",
    "qsw_train_data = StochasticMNIST(train_data, train_targets)\n",
    "qsw_test_data = StochasticMNIST(test_data, test_targets)\n",
    "\n",
    "batch_size = 128\n",
    "\n",
    "qsw_train_dataloader = DataLoader(qsw_train_data, batch_size=batch_size, shuffle=True, num_workers=32)\n",
    "qsw_test_dataloader = DataLoader(qsw_test_data, batch_size=batch_size, shuffle=True, num_workers=32)\n",
    "\n",
    "for X, y in qsw_train_dataloader:\n",
    "    print(f'Dimensioni dataset: {X.shape}, {y.shape}')\n",
    "    print(f'Data type: {X.dtype}, {y.dtype}')\n",
    "    print(f'Padding: {X[0,-10:]}')\n",
    "    break"
   ]
  },
  {
   "cell_type": "markdown",
   "metadata": {},
   "source": [
    "Definisco la classe SQWalker del modello e la classe LindbladFunc. Quest'ultima è necessaria per implementare correttamente la funzione odeint_adjoint. In altre parole, dato il problema di Cauchy\n",
    "\n",
    "dy/dt = f(t, y)    y(t_0) = y_0.\n",
    "\n",
    "odeint_adjoint(func, y0, t) necessita che func sia un nn.Module."
   ]
  },
  {
   "cell_type": "code",
   "execution_count": 4,
   "metadata": {},
   "outputs": [],
   "source": [
    "class LindbladFunc(nn.Module):\n",
    "    def __init__(self, N, s, l, p, device):\n",
    "        self.factory_kwargs = {\"device\": device, \"dtype\": torch.complex64}\n",
    "        super().__init__()\n",
    "        # Inizializzo i parametri del modello.\n",
    "        self.n = math.isqrt(N)\n",
    "        self.N = N\n",
    "        self.s = s\n",
    "        self.p = p\n",
    "\n",
    "        # Costruisco la matrice di transizione e la popolo con i pesi da trainare.\n",
    "        # Per semplicità scelgo i primi 10 nodi come quelli collegati ai sink.\n",
    "        self.sinkrates = nn.parameter.Parameter(\n",
    "            torch.empty((1, self.s), requires_grad=True, **self.factory_kwargs)\n",
    "        )\n",
    "        self.mask_sinks = torch.zeros((self.s, self.N), **self.factory_kwargs)\n",
    "        self.mask_sinks.fill_diagonal_(1)\n",
    "\n",
    "        # Costruisco dei tensori ausiliari per l'integrazione.\n",
    "        self.B = torch.zeros(self.N + self.s, self.N + self.s, **self.factory_kwargs)\n",
    "        self.B[:self.N, :self.N] = 0.5 * self.p * torch.eye(self.N, **self.factory_kwargs)\n",
    "\n",
    "        # Costruisco la matrice del lattice e la popolo con i pesi da trainare.\n",
    "        self.mask = self._create_mask(l, device)\n",
    "        self.expressivity = torch.count_nonzero(self.mask)\n",
    "        self.weights = nn.parameter.Parameter(\n",
    "            torch.empty((1, self.expressivity), requires_grad=True, **self.factory_kwargs)\n",
    "        )\n",
    "        self.reset_parameters()\n",
    "        \n",
    "    def _create_mask(self, l, device):\n",
    "        '''Restituisce una maschera per le entrate non nulle di una matrice di adiacenza di un lattice.\n",
    "        Non saprei dire quanto sia efficiente, ma è il modo più carino che mi è venuto in mente.\n",
    "        \n",
    "        Parametri\n",
    "        ---------\n",
    "        l : int tra 1 e n-1, dove n è la dimensione dell'immagine (es. per MNIST non encodato n=28)\n",
    "\n",
    "        Ritorna\n",
    "        -------\n",
    "        torch.tensor con dtype = torch.bool\n",
    "        '''\n",
    "        # Il tensore moves determina la struttura della cella a l-vicini.\n",
    "        moves = torch.ones(2*l+1, 2*l+1, device=device)\n",
    "        moves[l,l] = 0\n",
    "\n",
    "        M = nn.functional.pad(moves, (self.n-l-1, self.n-l-1, self.n-l-1, self.n-l-1), 'constant', 0)\n",
    "\n",
    "        m = torch.zeros((self.N, self.N), device=device)\n",
    "        for i in range(self.n):\n",
    "            for j in range(self.n):\n",
    "                m[i*self.n+j] = M[self.n-1-i:2*self.n-1-i, self.n-1-j:2*self.n-1-j].flatten()\n",
    "        return m == 1\n",
    "    \n",
    "    def reset_parameters(self):\n",
    "        # Impostare a=sqrt(5) in kaiming_uniform equivale a inizializzare con\n",
    "        # uniform(-1/sqrt(n_features), 1/sqrt(n_features)).\n",
    "        nn.init.kaiming_uniform_(self.weights, a=math.sqrt(5))\n",
    "        nn.init.kaiming_uniform_(self.sinkrates, a=math.sqrt(5))\n",
    "\n",
    "    def update_walker(self):\n",
    "        '''Aggiorna i tensori nell'eq. di Lindblad'''\n",
    "        \n",
    "        # Definisco le matrici A e gamma.\n",
    "        self.A = torch.zeros((self.N, self.N), **self.factory_kwargs)\n",
    "        self.A[self.mask] = self.weights\n",
    "        self.A = self.A - 1j * self.A.imag\n",
    "        self.A = 0.5*(self.A + self.A.T)**2\n",
    "\n",
    "        self.gamma = torch.zeros((self.s, self.N), **self.factory_kwargs)\n",
    "        self.gamma[self.mask_sinks == 1] = self.sinkrates\n",
    "        self.gamma = self.gamma - 1j * self.gamma.imag\n",
    "        self.gamma = (self.gamma)**2\n",
    "\n",
    "        # Calcolo le connettività della matrice A.\n",
    "        degA = torch.sum(self.A, dim=0) \n",
    "            \n",
    "        # Aggiorno la laplaciana.\n",
    "        self.laplacian = torch.zeros(self.N + self.s, self.N + self.s, **self.factory_kwargs)\n",
    "        self.laplacian[:self.N, :self.N] = self.p * self.A / degA\n",
    "        self.laplacian[self.N:, :self.N]= self.gamma\n",
    "\n",
    "        # Calcolo la matrice a del foglio LaTeX.\n",
    "        R = torch.zeros(self.N + self.s, self.N + self.s, **self.factory_kwargs)\n",
    "        R[self.N:, :self.N] = self.gamma\n",
    "        self.a = 0.5 * torch.diag(torch.sum(R, dim=0)) + self.B\n",
    "\n",
    "        # Aggiorno l'hamiltoniana.\n",
    "        self.H = torch.eye(self.N + self.s, **self.factory_kwargs)\n",
    "        self.H[:self.N, :self.N] = (1 - self.p) * self.A\n",
    "    \n",
    "    def forward(self, t, rho):\n",
    "        '''Metodo che viene chiamato da odeint durante l'integrazione.\n",
    "        Calcola l'rhs dell'eq. di Lindblad\n",
    "        '''\n",
    "        drho = -1j * (torch.matmul(self.H, rho) - torch.matmul(rho, self.H))\n",
    "        drho = drho + torch.diag_embed(torch.matmul(torch.diagonal(rho, dim1 = 1, dim2 = 2), self.laplacian.T))\n",
    "        drho = drho - (torch.matmul(self.a, rho) + torch.matmul(rho, self.a))\n",
    "        return drho\n",
    "    \n",
    "    def extra_repr(self) -> str:\n",
    "        return \"in_features: {a}, out_features: {b}\\n Expressivity: {c:.2f}%\".format(a = self.N, b = self.s, c = self.expressivity*100/self.N**2)\n",
    "\n",
    "class SQWalker(nn.Module):\n",
    "    '''Classe dello Stochastic Quantum Walker'''\n",
    "    def __init__(self, in_features, out_features, dt=1e-3, steps=1000, l = 1, noise=1., device = None):\n",
    "        super().__init__()\n",
    "        self.s = out_features\n",
    "        self.lindblad = LindbladFunc(in_features, out_features, l, noise, device)\n",
    "        self.t = torch.arange(steps+1, device=device)*dt\n",
    "        \n",
    "    def forward(self, input, history = False, method = 'rk4'):\n",
    "        '''\n",
    "        Parametri\n",
    "        ---------\n",
    "        \n",
    "        Ritorna\n",
    "        -------\n",
    "        se history=False\n",
    "            output.real: torch.tensor di shape (batch_size, s) che contiene il valore dei sink nello stato finale\n",
    "        se history = True\n",
    "            result: torch.tensor di shape (batch, steps, n, n) che contiene il valore di rho a tutti gli istanti.\n",
    "            '''\n",
    "        self.lindblad.update_walker()\n",
    "\n",
    "        # Costruisco la matrice densità iniziale popolando la diagonale con l'immagine.\n",
    "        rho0 = torch.diag_embed(input)\n",
    "        \n",
    "        # Integro con Runge-Kutta al quart'ordine. Se method non fosse specificato,\n",
    "        # odeint userebbe il metodo Dormand-Price (Runge-Kutta adattivo di ordine 5).\n",
    "        result = odeint(self.lindblad, y0=rho0, t=self.t, method = method)\n",
    "\n",
    "        if history == True:\n",
    "            return result\n",
    "        output = result[-1].diagonal(dim1=-2, dim2=-1)[:, -self.s:]\n",
    "        \n",
    "        return output.real"
   ]
  },
  {
   "cell_type": "markdown",
   "metadata": {},
   "source": [
    "Definisco il modello, indicando la dimensione di input e di output, i parametri dell'integrazione, il passo del lattice e il noise. La scelta di mettere dt=1. sembra pareccchio azzardata. Vedremo a posteriori che l'integrazione lavora comunque a modo. Il vantaggio è ovvio: se la cosa è lecita, bastano pochissimi passi e il training viene eseguito in un tempo ragionevole. "
   ]
  },
  {
   "cell_type": "code",
   "execution_count": 5,
   "metadata": {},
   "outputs": [
    {
     "name": "stdout",
     "output_type": "stream",
     "text": [
      "SQWalker(\n",
      "  (lindblad): LindbladFunc(\n",
      "    in_features: 64, out_features: 10\n",
      "     Expressivity: 26.66%\n",
      "  )\n",
      ")\n"
     ]
    }
   ],
   "source": [
    "model = SQWalker(64, 10, dt = 1., steps = 50, l = 2, noise = 0.2, device = device).to(device)\n",
    "print(model)"
   ]
  },
  {
   "cell_type": "code",
   "execution_count": 6,
   "metadata": {},
   "outputs": [],
   "source": [
    "loss_fn = nn.CrossEntropyLoss().to(device)\n",
    "optimizer = torch.optim.Adam(model.parameters(), lr=1e-3)"
   ]
  },
  {
   "cell_type": "code",
   "execution_count": 7,
   "metadata": {},
   "outputs": [],
   "source": [
    "def train(dataloader, model, loss_fn, optimizer, voice = True):\n",
    "    size = len(dataloader.dataset)\n",
    "    model.train()\n",
    "    current = 0\n",
    "    i = 0\n",
    "    for batch, (X, y) in enumerate(dataloader):\n",
    "        X, y = X.to(device), y.to(device)\n",
    "        pred = model(X)\n",
    "        loss = loss_fn(pred, y)\n",
    "        \n",
    "        # Backpropagation\n",
    "        loss.backward()\n",
    "        optimizer.step()\n",
    "        optimizer.zero_grad()\n",
    "        current += len(X)\n",
    "\n",
    "        if current >= i*10000 and voice:\n",
    "            i += 1\n",
    "            loss = loss.item()\n",
    "            print(f\"loss: {loss:>7f}  [{current:>5d}/{size:>5d}]\")"
   ]
  },
  {
   "cell_type": "code",
   "execution_count": 8,
   "metadata": {},
   "outputs": [],
   "source": [
    "def test(dataloader, model, loss_fn):\n",
    "    size = len(dataloader.dataset)\n",
    "    num_batches = len(dataloader)\n",
    "    model.eval()\n",
    "    test_loss, correct = 0, 0\n",
    "    with torch.no_grad():\n",
    "        for X, y in dataloader:\n",
    "            X, y = X.to(device), y.to(device)\n",
    "            pred = model(X)\n",
    "            test_loss += loss_fn(pred, y).item()\n",
    "            correct += (pred.argmax(1) == y).type(torch.float).sum().item()\n",
    "    test_loss /= num_batches\n",
    "    correct /= size\n",
    "    print(f\"Test Error: \\n Accuracy: {(100*correct):>0.1f}%, Avg loss: {test_loss:>8f} \\n\")\n",
    "    return 100*correct, test_loss"
   ]
  },
  {
   "cell_type": "code",
   "execution_count": 9,
   "metadata": {},
   "outputs": [
    {
     "name": "stdout",
     "output_type": "stream",
     "text": [
      "Epoch 1\n",
      "-------------------------------\n",
      "loss: 6.976196  [  128/60000]\n",
      "loss: 2.359960  [10112/60000]\n",
      "loss: 2.358345  [20096/60000]\n",
      "loss: 2.366081  [30080/60000]\n",
      "loss: 2.315771  [40064/60000]\n",
      "loss: 2.269418  [50048/60000]\n",
      "loss: 2.164721  [60000/60000]\n",
      "Test Error: \n",
      " Accuracy: 17.4%, Avg loss: 2.196330 \n",
      "\n",
      "Epoch 2\n",
      "-------------------------------\n",
      "loss: 2.200248  [  128/60000]\n",
      "loss: 2.095577  [10112/60000]\n",
      "loss: 1.962765  [20096/60000]\n",
      "loss: 1.870384  [30080/60000]\n",
      "loss: 1.814348  [40064/60000]\n",
      "loss: 1.852032  [50048/60000]\n",
      "loss: 1.750075  [60000/60000]\n",
      "Test Error: \n",
      " Accuracy: 38.0%, Avg loss: 1.786620 \n",
      "\n",
      "Epoch 3\n",
      "-------------------------------\n",
      "loss: 1.753733  [  128/60000]\n",
      "loss: 1.755722  [10112/60000]\n",
      "loss: 1.632880  [20096/60000]\n",
      "loss: 1.677761  [30080/60000]\n",
      "loss: 1.664694  [40064/60000]\n",
      "loss: 1.707820  [50048/60000]\n",
      "loss: 1.685152  [60000/60000]\n",
      "Test Error: \n",
      " Accuracy: 41.6%, Avg loss: 1.659997 \n",
      "\n",
      "Epoch 4\n",
      "-------------------------------\n",
      "loss: 1.834330  [  128/60000]\n",
      "loss: 1.667251  [10112/60000]\n",
      "loss: 1.618830  [20096/60000]\n",
      "loss: 1.718327  [30080/60000]\n",
      "loss: 1.599446  [40064/60000]\n",
      "loss: 1.509332  [50048/60000]\n",
      "loss: 1.579569  [60000/60000]\n",
      "Test Error: \n",
      " Accuracy: 43.6%, Avg loss: 1.627104 \n",
      "\n",
      "Epoch 5\n",
      "-------------------------------\n",
      "loss: 1.678139  [  128/60000]\n",
      "loss: 1.754547  [10112/60000]\n",
      "loss: 1.544621  [20096/60000]\n",
      "loss: 1.676558  [30080/60000]\n",
      "loss: 1.652973  [40064/60000]\n",
      "loss: 1.568396  [50048/60000]\n",
      "loss: 1.650756  [60000/60000]\n",
      "Test Error: \n",
      " Accuracy: 47.3%, Avg loss: 1.556685 \n",
      "\n",
      "Epoch 6\n",
      "-------------------------------\n",
      "loss: 1.555894  [  128/60000]\n",
      "loss: 1.699073  [10112/60000]\n",
      "loss: 1.643413  [20096/60000]\n",
      "loss: 1.548360  [30080/60000]\n",
      "loss: 1.625721  [40064/60000]\n",
      "loss: 1.502787  [50048/60000]\n",
      "loss: 1.517424  [60000/60000]\n",
      "Test Error: \n",
      " Accuracy: 47.0%, Avg loss: 1.457950 \n",
      "\n",
      "Epoch 7\n",
      "-------------------------------\n",
      "loss: 1.466805  [  128/60000]\n",
      "loss: 1.510977  [10112/60000]\n",
      "loss: 1.368508  [20096/60000]\n",
      "loss: 1.635465  [30080/60000]\n",
      "loss: 1.335170  [40064/60000]\n",
      "loss: 1.410395  [50048/60000]\n",
      "loss: 1.421598  [60000/60000]\n",
      "Test Error: \n",
      " Accuracy: 50.7%, Avg loss: 1.402308 \n",
      "\n",
      "Epoch 8\n",
      "-------------------------------\n",
      "loss: 1.272949  [  128/60000]\n",
      "loss: 1.478844  [10112/60000]\n",
      "loss: 1.397019  [20096/60000]\n",
      "loss: 1.327564  [30080/60000]\n",
      "loss: 1.351726  [40064/60000]\n",
      "loss: 1.310595  [50048/60000]\n",
      "loss: 1.317355  [60000/60000]\n",
      "Test Error: \n",
      " Accuracy: 51.0%, Avg loss: 1.358636 \n",
      "\n",
      "Epoch 9\n",
      "-------------------------------\n",
      "loss: 1.445635  [  128/60000]\n",
      "loss: 1.221565  [10112/60000]\n",
      "loss: 1.259444  [20096/60000]\n",
      "loss: 1.337008  [30080/60000]\n",
      "loss: 1.297114  [40064/60000]\n",
      "loss: 1.395396  [50048/60000]\n",
      "loss: 1.193642  [60000/60000]\n",
      "Test Error: \n",
      " Accuracy: 50.7%, Avg loss: 1.317256 \n",
      "\n",
      "Epoch 10\n",
      "-------------------------------\n",
      "loss: 1.319802  [  128/60000]\n",
      "loss: 1.287821  [10112/60000]\n",
      "loss: 1.373601  [20096/60000]\n",
      "loss: 1.412605  [30080/60000]\n",
      "loss: 1.339187  [40064/60000]\n",
      "loss: 1.331897  [50048/60000]\n",
      "loss: 1.217239  [60000/60000]\n",
      "Test Error: \n",
      " Accuracy: 48.5%, Avg loss: 1.338693 \n",
      "\n",
      "Done!\n"
     ]
    }
   ],
   "source": [
    "epochs = 10\n",
    "for t in range(epochs):\n",
    "    print(f\"Epoch {t+1}\\n-------------------------------\")\n",
    "    train(qsw_train_dataloader, model, loss_fn, optimizer)\n",
    "    test(qsw_test_dataloader, model, loss_fn)\n",
    "print(\"Done!\")"
   ]
  },
  {
   "cell_type": "code",
   "execution_count": 10,
   "metadata": {},
   "outputs": [
    {
     "name": "stdout",
     "output_type": "stream",
     "text": [
      "Saved PyTorch Model State to model.pth\n"
     ]
    }
   ],
   "source": [
    "torch.save(model.state_dict(), \"model.pth\")\n",
    "print(\"Saved PyTorch Model State to model.pth\")"
   ]
  },
  {
   "cell_type": "code",
   "execution_count": 14,
   "metadata": {},
   "outputs": [
    {
     "data": {
      "text/plain": [
       "<All keys matched successfully>"
      ]
     },
     "execution_count": 14,
     "metadata": {},
     "output_type": "execute_result"
    }
   ],
   "source": [
    "model = SQWalker(64, 10, dt = 1., steps = 100, l = 2, noise = 0.2, device = device).to(device)\n",
    "model.load_state_dict(torch.load(\"model.pth\", weights_only=True))"
   ]
  },
  {
   "cell_type": "markdown",
   "metadata": {},
   "source": [
    "Verifichiamo adesso che l'integrazione non crei problemi. Per farlo, prendiamo una immagine a caso e effettuiamo l'integrazione sia col metodo rk4, sia chiamando il metodo dopri5 (Dormand-Price). Quest'ultimo è un metodo adattivo che sceglie autonomamente il passo d'integrazione: i valori di dt e steps rappresentano allora soltanto gli istanti per i quali odeint deve restituire il valore di rho, ma non cambiano la precisione dell'integrazione.\n",
    "Quando avevo fatto questa operazione per il caso full connected, mi ero reso conto che solo per dt molto piccoli le integrazioni combaciavano. In questo caso invece, per dt=1 lo stato finale è identico per i due metodi. C'era poi un altro problema che mi aveva portato a concludere che dt dovesse essere molto piccolo, ma era un errore di codice che poi vi spiegherò a voce."
   ]
  },
  {
   "cell_type": "code",
   "execution_count": 15,
   "metadata": {},
   "outputs": [
    {
     "name": "stdout",
     "output_type": "stream",
     "text": [
      "Convergenza: 77.68%\n",
      "Stato finale rk4: tensor([19.0231, 19.3966, 17.9123, 18.9633, 24.2981, 34.5946, 29.2684, 24.4562,\n",
      "        18.9291, 30.4236], device='cuda:0')\n",
      "Stato finale reale: tensor([19.0231, 19.3966, 17.9123, 18.9633, 24.2981, 34.5946, 29.2684, 24.4562,\n",
      "        18.9291, 30.4236], device='cuda:0')\n",
      "True\n"
     ]
    }
   ],
   "source": [
    "classes = [\"0\", \"1\", \"2\", \"3\", \"4\", \"5\", \"6\", \"7\", \"8\", \"9\"]\n",
    "\n",
    "model.eval()\n",
    "n_datas = len(test_data)\n",
    "\n",
    "c = torch.randint(n_datas,(1,)).item()\n",
    "x, y = qsw_test_data[c]\n",
    "with torch.no_grad():\n",
    "    x = x.to(device)\n",
    "    pred = model(x.unsqueeze(0), history=True).squeeze(1)\n",
    "    sinks = pred[-1].diagonal(dim1=-2, dim2=-1)[-10:].real\n",
    "    \n",
    "    pred_real = model(x.unsqueeze(0), history=True, method = 'dopri5').squeeze(1)\n",
    "    sinks_real = pred_real[-1].diagonal(dim1=-2, dim2=-1)[-10:].real\n",
    "\n",
    "    predicted, actual = classes[sinks.argmax()], classes[y]\n",
    "\n",
    "# Stampo la percentuale del valore totale dei pixel che è finito nei sink\n",
    "print(f'Convergenza: {(100*torch.sum(sinks)/torch.sum(x.real)):.2f}%')\n",
    "\n",
    "# Confronto i due stati finali nei sink\n",
    "print(f'Stato finale rk4: {sinks}\\nStato finale reale: {sinks_real}')\n",
    "\n",
    "# Confronto i due stati finali anche per le entrate off-diagonal. Probabilmente qua verrà False.\n",
    "# Tuttavia nella prossima cella ci accorgiamo comunque che le differenze sono minime\n",
    "print(torch.allclose(pred[-1], pred_real[-1]))"
   ]
  },
  {
   "cell_type": "code",
   "execution_count": 16,
   "metadata": {},
   "outputs": [
    {
     "data": {
      "image/png": "[encoded data removed]",
      "text/plain": [
       "<Figure size 480x480 with 2 Axes>"
      ]
     },
     "metadata": {},
     "output_type": "display_data"
    }
   ],
   "source": [
    "plt.matshow(torch.abs(pred[-1] - pred_real[-1]).cpu().numpy())\n",
    "plt.colorbar()\n",
    "plt.show()"
   ]
  }
 ],
 "metadata": {
  "kernelspec": {
   "display_name": "quantum",
   "language": "python",
   "name": "python3"
  },
  "language_info": {
   "codemirror_mode": {
    "name": "ipython",
    "version": 3
   },
   "file_extension": ".py",
   "mimetype": "text/x-python",
   "name": "python",
   "nbconvert_exporter": "python",
   "pygments_lexer": "ipython3",
   "version": "3.10.16"
  }
 },
 "nbformat": 4,
 "nbformat_minor": 2
}
