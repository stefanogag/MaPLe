{
 "cells": [
  {
   "cell_type": "markdown",
   "metadata": {},
   "source": [
    "Notebook che definisce la rete neurale per lo Stochastic Quantum Walk, ma con un Runge-Kutta scritto a mano.\n",
    "Il fatto che non ci sia il metodo adjoint a ridurre la quantità di memoria salvata per la backprop, mi obbliga a dover ridurre la batchsize a 16."
   ]
  },
  {
   "cell_type": "code",
   "execution_count": null,
   "metadata": {},
   "outputs": [],
   "source": [
    "import torch\n",
    "from torch import nn\n",
    "from torch.utils.data import DataLoader, Dataset\n",
    "import matplotlib.pyplot as plt\n",
    "import math\n",
    "from opt_einsum import contract"
   ]
  },
  {
   "cell_type": "code",
   "execution_count": 2,
   "metadata": {},
   "outputs": [
    {
     "name": "stdout",
     "output_type": "stream",
     "text": [
      "Using cuda device\n"
     ]
    }
   ],
   "source": [
    "device = (\n",
    "    \"cuda\"\n",
    "    if torch.cuda.is_available()\n",
    "    else \"cpu\"\n",
    ")\n",
    "print(f\"Using {device} device\")"
   ]
  },
  {
   "cell_type": "code",
   "execution_count": null,
   "metadata": {},
   "outputs": [],
   "source": [
    "class StochasticMNIST(Dataset):\n",
    "    def __init__(self, data, targets):\n",
    "        self.data = data\n",
    "        self.targets = targets\n",
    "\n",
    "    def __len__(self):\n",
    "        return len(self.data)\n",
    "\n",
    "    def __getitem__(self, idx):\n",
    "        return self.data[idx], self.targets[idx]\n",
    "\n",
    "# Carico le immagini encodate\n",
    "train_data, train_targets = torch.load(\"qsw_train_data_encoded64.pt\", weights_only=False)\n",
    "test_data, test_targets = torch.load(\"qsw_test_data_encoded64.pt\", weights_only=False)\n",
    "\n",
    "# Creo i dataset\n",
    "qsw_train_data = StochasticMNIST(train_data, train_targets)\n",
    "qsw_test_data = StochasticMNIST(test_data, test_targets)\n",
    "\n",
    "batch_size = 16\n",
    "\n",
    "qsw_train_dataloader = DataLoader(qsw_train_data, batch_size=batch_size, shuffle=True, num_workers=32)\n",
    "qsw_test_dataloader = DataLoader(qsw_test_data, batch_size=batch_size, shuffle=True, num_workers=32)\n",
    "\n",
    "for X, y in qsw_train_dataloader:\n",
    "    print(f'Shape dataset: {X.shape}, {y.shape}')\n",
    "    print(f'Data type: {X.dtype}, {y.dtype}')\n",
    "    print(f'Padding: {X[0,-10:]}')\n",
    "    break"
   ]
  },
  {
   "cell_type": "code",
   "execution_count": null,
   "metadata": {},
   "outputs": [],
   "source": [
    "class SQWalker(nn.Module):\n",
    "    r\"\"\"Evaluates the asymptotic configuration given initial data.\n",
    "    \"\"\"\n",
    "    def __init__(self, in_features, out_features, dt=1e-3, steps=1000, l = 1, noise=1., device=None):\n",
    "        self.factory_kwargs = {\"device\": device, \"dtype\": torch.complex64}\n",
    "        super().__init__()\n",
    "        # Inizializzo i parametri del modello\n",
    "        self.n = math.isqrt(in_features)\n",
    "        self.N = in_features\n",
    "        self.s = out_features\n",
    "        self.p = noise\n",
    "        self.steps = steps\n",
    "        self.dt = dt\n",
    "\n",
    "        # Costruisco la matrice di transizione e la popolo con i pesi da trainare.\n",
    "        # Per semplicità scelgo i primi 10 nodi come quelli collegati ai sink.\n",
    "        self.sinkrates = nn.parameter.Parameter(\n",
    "            torch.empty((1, self.s), requires_grad=True, **self.factory_kwargs)\n",
    "        )\n",
    "        self.mask_sinks = torch.zeros((self.s, self.N), **self.factory_kwargs)\n",
    "        self.mask_sinks.fill_diagonal_(1)\n",
    "\n",
    "        # Costruisco dei tensori ausiliari per l'integrazione.\n",
    "        self.basis = torch.eye(self.N + self.s, **self.factory_kwargs)\n",
    "        self.B = torch.zeros(self.N + self.s, self.N + self.s, **self.factory_kwargs)\n",
    "        self.B[:self.N, :self.N] = 0.5 * self.p * torch.eye(self.N, **self.factory_kwargs)\n",
    "\n",
    "        # Definisco la matrice di adiacenza, di transizione, laplaciana, hamiltoniana e un'altra di transizione ma estesa.\n",
    "        self.A = torch.zeros((self.N, self.N), **self.factory_kwargs)\n",
    "        self.gamma = torch.zeros((self.s, self.N), **self.factory_kwargs)\n",
    "        self.laplacian = torch.zeros(self.N + self.s, self.N + self.s, **self.factory_kwargs)\n",
    "        self.H = torch.eye(self.N + self.s, **self.factory_kwargs)\n",
    "        self.R = torch.zeros(self.N + self.s, self.N + self.s, **self.factory_kwargs)\n",
    "\n",
    "        # Costruisco la matrice del lattice e la popolo con i pesi da trainare.\n",
    "        self.mask = self.create_mask(l, device)\n",
    "        self.expressivity = torch.count_nonzero(self.mask)\n",
    "        self.weights = nn.parameter.Parameter(\n",
    "            torch.empty((1, self.expressivity), requires_grad=True, **self.factory_kwargs)\n",
    "        )\n",
    "        self.reset_parameters()\n",
    "        \n",
    "    def create_mask(self, l, device):\n",
    "        moves = torch.ones(2*l+1,2*l+1, device=device)\n",
    "        moves[l,l] = 0\n",
    "        M = nn.functional.pad(moves, (self.n-l-1, self.n-l-1, self.n-l-1, self.n-l-1), 'constant', 0)\n",
    "\n",
    "        A = torch.zeros((self.N, self.N), device=device)\n",
    "        for i in range(self.n):\n",
    "            for j in range(self.n):\n",
    "                A[i*self.n+j] = M[self.n-1-i:2*self.n-1-i, self.n-1-j:2*self.n-1-j].flatten()\n",
    "        return A == 1\n",
    "        \n",
    "    def reset_parameters(self):\n",
    "        nn.init.kaiming_uniform_(self.weights, a=math.sqrt(5))\n",
    "        nn.init.kaiming_uniform_(self.sinkrates, a=math.sqrt(5))\n",
    "\n",
    "    def lindblad(self, rho, H, laplacian, a):\n",
    "        # Calcolo drho/dt\n",
    "        drho = -1j * (torch.matmul(H, rho) - torch.matmul(rho, H))\n",
    "        drho = drho + contract('ij,il,im,bjj->blm', laplacian, self.basis, self.basis, rho)\n",
    "        drho = drho - (torch.matmul(a, rho) + torch.matmul(rho, a))\n",
    "        return drho\n",
    "    \n",
    "    def forward(self, input, history = False):  \n",
    "        # Costruisco le matrici A e gamma\n",
    "        self.A[self.mask] = self.weights\n",
    "        self.A = self.A - 1j * self.A.imag\n",
    "        self.A = 0.5*(self.A + self.A.T)**2\n",
    "\n",
    "        self.gamma = torch.zeros((self.s, self.N), **self.factory_kwargs)\n",
    "        self.gamma[self.mask_sinks == 1] = self.sinkrates\n",
    "        self.gamma = self.gamma - 1j * self.gamma.imag\n",
    "        self.gamma = (self.gamma)**2\n",
    "\n",
    "        # Calcolo le connettività delle matrici A e gamma\n",
    "        degA = torch.sum(self.A, dim=0) \n",
    "            \n",
    "        # Aggiorno la laplaciana\n",
    "        self.laplacian[:self.N, :self.N] = self.p * A / degA\n",
    "        self.laplacian[self.N:, :self.N]= self.gamma\n",
    "\n",
    "        # Calcolo la matrice a del foglio LaTeX.\n",
    "        self.R[self.N:, :self.N] = self.gamma\n",
    "        a = 0.5 * contract('ji,il,im->lm', self.R, self.basis, self.basis) + self.B\n",
    "\n",
    "        # Aggiorno l'hamiltoniana\n",
    "        self.H[:self.N, :self.N] = (1 - self.p) * self.A\n",
    "\n",
    "        # Costruisco la matrice rho0 e integro con Runge-Kutta 4(5)\n",
    "        rho = torch.diag_embed(input)\n",
    "\n",
    "        if history:\n",
    "            movie = [rho]\n",
    "\n",
    "        for _ in range(self.steps-1):\n",
    "            k1 = self.dt * self.lindblad(rho, self.H, self.laplacian, a)\n",
    "            k2 = self.dt * self.lindblad(rho + k1/2, self.H, self.laplacian, a)\n",
    "            k3 = self.dt * self.lindblad(rho + k2/2, self.H, self.laplacian, a)\n",
    "            k4 = self.dt * self.lindblad(rho + k3, self.H, self.laplacian, a)\n",
    "            \n",
    "            rho = rho + (k1 + 2*k2 + 2*k3 + k4) / 6\n",
    "            if history:\n",
    "                movie.append(rho)\n",
    "        if history:\n",
    "            return torch.cat(movie)\n",
    "        return rho.diagonal(dim1=-2, dim2=-1)[:, -self.s:].real\n",
    "\n",
    "    def extra_repr(self) -> str:\n",
    "        return \"in_features: {a}, out_features: {b}\\n Expressivity: {c:.2f}%\".format(a = self.N, b = self.s, c = self.expressivity*100/self.N**2)"
   ]
  },
  {
   "cell_type": "code",
   "execution_count": null,
   "metadata": {},
   "outputs": [
    {
     "name": "stdout",
     "output_type": "stream",
     "text": [
      "SQWalker(\n",
      "  in_features: 64, out_features: 10\n",
      "   Expressivity: 10.25%\n",
      ")\n"
     ]
    }
   ],
   "source": [
    "model = SQWalker(64, 10, dt = 0.001, steps = 1000, l = 1, noise = 1., device=device).to(device)\n",
    "print(model)"
   ]
  },
  {
   "cell_type": "code",
   "execution_count": 6,
   "metadata": {},
   "outputs": [],
   "source": [
    "loss_fn = nn.CrossEntropyLoss()\n",
    "optimizer = torch.optim.Adam(model.parameters(), lr=1e-3)"
   ]
  },
  {
   "cell_type": "code",
   "execution_count": null,
   "metadata": {},
   "outputs": [],
   "source": [
    "def train(dataloader, model, loss_fn, optimizer, voice = True):\n",
    "    size = len(dataloader.dataset)\n",
    "    model.train()\n",
    "    current = 0\n",
    "    i = 0\n",
    "    for batch, (X, y) in enumerate(dataloader):\n",
    "        X, y = X.to(device), y.to(device)\n",
    "        # Compute prediction error\n",
    "        pred = model(X)\n",
    "        loss = loss_fn(pred, y)\n",
    "\n",
    "        # Backpropagation\n",
    "        loss.backward()\n",
    "        optimizer.step()\n",
    "        optimizer.zero_grad()\n",
    "        current += len(X)\n",
    "        if current >= i*10000 and voice:\n",
    "            i += 1\n",
    "            loss = loss.item()\n",
    "            print(f\"loss: {loss:>7f}  [{current:>5d}/{size:>5d}]\")"
   ]
  },
  {
   "cell_type": "code",
   "execution_count": 11,
   "metadata": {},
   "outputs": [],
   "source": [
    "def test(dataloader, model, loss_fn):\n",
    "    size = len(dataloader.dataset)\n",
    "    num_batches = len(dataloader)\n",
    "    model.eval()\n",
    "    test_loss, correct = 0, 0\n",
    "    with torch.no_grad():\n",
    "        for X, y in dataloader:\n",
    "            X, y = X.to(device), y.to(device)\n",
    "            pred = model(X)\n",
    "            test_loss += loss_fn(pred, y).item()\n",
    "            correct += (pred.argmax(1) == y).type(torch.float).sum().item()\n",
    "    test_loss /= num_batches\n",
    "    correct /= size\n",
    "    print(f\"Test Error: \\n Accuracy: {(100*correct):>0.1f}%, Avg loss: {test_loss:>8f} \\n\")\n",
    "    return 100*correct, test_loss"
   ]
  },
  {
   "cell_type": "code",
   "execution_count": null,
   "metadata": {},
   "outputs": [],
   "source": [
    "epochs = 10\n",
    "for t in range(epochs):\n",
    "    train(qsw_train_dataloader, model, loss_fn, optimizer)\n",
    "    test(qsw_test_dataloader, model, loss_fn)\n",
    "print('Done!')"
   ]
  },
  {
   "cell_type": "code",
   "execution_count": 10,
   "metadata": {},
   "outputs": [
    {
     "name": "stdout",
     "output_type": "stream",
     "text": [
      "Saved PyTorch Model State to model.pth\n"
     ]
    }
   ],
   "source": [
    "torch.save(model.state_dict(), \"model.pth\")\n",
    "print(\"Saved PyTorch Model State to model.pth\")"
   ]
  },
  {
   "cell_type": "code",
   "execution_count": null,
   "metadata": {},
   "outputs": [],
   "source": [
    "model = SQWalker(64, 10, dt = 0.001, steps = 1000, l = 1, noise = 1., device=device).to(device)\n",
    "model.load_state_dict(torch.load(\"model.pth\", weights_only=True))"
   ]
  },
  {
   "cell_type": "code",
   "execution_count": null,
   "metadata": {},
   "outputs": [],
   "source": [
    "classes = [\n",
    "    \"0\",\n",
    "    \"1\",\n",
    "    \"2\",\n",
    "    \"3\",\n",
    "    \"4\",\n",
    "    \"5\",\n",
    "    \"6\",\n",
    "    \"7\",\n",
    "    \"8\",\n",
    "    \"9\",\n",
    "]\n",
    "\n",
    "model.eval()\n",
    "n_datas = len(test_data)\n",
    "\n",
    "c = torch.randint(n_datas,(1,)).item()\n",
    "x, y = qsw_test_data[c]\n",
    "with torch.no_grad():\n",
    "    x = x.to(device)\n",
    "    pred = model(x.unsqueeze(0), history=True).squeeze(1)\n",
    "    sinks = pred[-1].diagonal(dim1=-2, dim2=-1)[-10:].real\n",
    "    predicted, actual = classes[sinks.argmax()], classes[y]\n",
    "\n",
    "print(f'Convergenza: {(100*torch.sum(sinks)/torch.sum(x.real)):.2f}%')\n",
    "print(f'Stato finale: {sinks}')"
   ]
  }
 ],
 "metadata": {
  "kernelspec": {
   "display_name": "quantum",
   "language": "python",
   "name": "python3"
  },
  "language_info": {
   "codemirror_mode": {
    "name": "ipython",
    "version": 3
   },
   "file_extension": ".py",
   "mimetype": "text/x-python",
   "name": "python",
   "nbconvert_exporter": "python",
   "pygments_lexer": "ipython3",
   "version": "3.10.16"
  }
 },
 "nbformat": 4,
 "nbformat_minor": 2
}
